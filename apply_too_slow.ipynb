{
 "cells": [
  {
   "cell_type": "markdown",
   "id": "ac5577d9-9773-4a8f-a546-80feabede171",
   "metadata": {},
   "source": [
    "# Article \"What If .apply() to Your Entire Pandas Dataframe Is Too Slow?\"\n",
    "This notebook shows the codes to replicate the results in my Medium article,<br>\n",
    "\"What If .apply() to Your Entire Pandas Dataframe Is Too Slow?\""
   ]
  },
  {
   "cell_type": "code",
   "execution_count": 12,
   "id": "f9993540-551c-41ad-a92d-8cee70522135",
   "metadata": {},
   "outputs": [],
   "source": [
    "import pandas as pd\n",
    "import numpy as np\n",
    "import timeit"
   ]
  },
  {
   "cell_type": "markdown",
   "id": "2b261706-6f0c-4a6e-a02f-bcc809270289",
   "metadata": {},
   "source": [
    "## Create initial toy dataset"
   ]
  },
  {
   "cell_type": "code",
   "execution_count": 4,
   "id": "bb83a286-f27c-422b-9ee7-90c6821cb22d",
   "metadata": {},
   "outputs": [
    {
     "data": {
      "text/html": [
       "<div>\n",
       "<style scoped>\n",
       "    .dataframe tbody tr th:only-of-type {\n",
       "        vertical-align: middle;\n",
       "    }\n",
       "\n",
       "    .dataframe tbody tr th {\n",
       "        vertical-align: top;\n",
       "    }\n",
       "\n",
       "    .dataframe thead th {\n",
       "        text-align: right;\n",
       "    }\n",
       "</style>\n",
       "<table border=\"1\" class=\"dataframe\">\n",
       "  <thead>\n",
       "    <tr style=\"text-align: right;\">\n",
       "      <th></th>\n",
       "      <th>category</th>\n",
       "      <th>radius</th>\n",
       "      <th>sweetness</th>\n",
       "    </tr>\n",
       "  </thead>\n",
       "  <tbody>\n",
       "    <tr>\n",
       "      <th>0</th>\n",
       "      <td>apple</td>\n",
       "      <td>3</td>\n",
       "      <td>1</td>\n",
       "    </tr>\n",
       "    <tr>\n",
       "      <th>1</th>\n",
       "      <td>pear</td>\n",
       "      <td>4</td>\n",
       "      <td>2</td>\n",
       "    </tr>\n",
       "    <tr>\n",
       "      <th>2</th>\n",
       "      <td>peach</td>\n",
       "      <td>2</td>\n",
       "      <td>3</td>\n",
       "    </tr>\n",
       "  </tbody>\n",
       "</table>\n",
       "</div>"
      ],
      "text/plain": [
       "  category  radius  sweetness\n",
       "0    apple       3          1\n",
       "1     pear       4          2\n",
       "2    peach       2          3"
      ]
     },
     "execution_count": 4,
     "metadata": {},
     "output_type": "execute_result"
    }
   ],
   "source": [
    "d = {'category': ['apple', 'pear', 'peach'], 'radius': [3, 4, 2], 'sweetness': [1, 2, 3]}\n",
    "df = pd.DataFrame(data=d)\n",
    "df"
   ]
  },
  {
   "cell_type": "code",
   "execution_count": 6,
   "id": "e0eacd16-36c2-4920-90fd-0c494daf9ac3",
   "metadata": {},
   "outputs": [],
   "source": [
    "# output to csv for Medium\n",
    "df.to_csv('tab1.csv')"
   ]
  },
  {
   "cell_type": "markdown",
   "id": "9d6fb660-82b7-491b-8ccf-ad0c04e7dd9f",
   "metadata": {},
   "source": [
    "## Add a new column 'diameter'\n",
    "### Use .apply()"
   ]
  },
  {
   "cell_type": "code",
   "execution_count": 8,
   "id": "39cf6a36-c70c-4c85-a045-753d8983e365",
   "metadata": {},
   "outputs": [
    {
     "data": {
      "text/html": [
       "<div>\n",
       "<style scoped>\n",
       "    .dataframe tbody tr th:only-of-type {\n",
       "        vertical-align: middle;\n",
       "    }\n",
       "\n",
       "    .dataframe tbody tr th {\n",
       "        vertical-align: top;\n",
       "    }\n",
       "\n",
       "    .dataframe thead th {\n",
       "        text-align: right;\n",
       "    }\n",
       "</style>\n",
       "<table border=\"1\" class=\"dataframe\">\n",
       "  <thead>\n",
       "    <tr style=\"text-align: right;\">\n",
       "      <th></th>\n",
       "      <th>category</th>\n",
       "      <th>radius</th>\n",
       "      <th>sweetness</th>\n",
       "      <th>diameter</th>\n",
       "    </tr>\n",
       "  </thead>\n",
       "  <tbody>\n",
       "    <tr>\n",
       "      <th>0</th>\n",
       "      <td>apple</td>\n",
       "      <td>3</td>\n",
       "      <td>1</td>\n",
       "      <td>6</td>\n",
       "    </tr>\n",
       "    <tr>\n",
       "      <th>1</th>\n",
       "      <td>pear</td>\n",
       "      <td>4</td>\n",
       "      <td>2</td>\n",
       "      <td>8</td>\n",
       "    </tr>\n",
       "    <tr>\n",
       "      <th>2</th>\n",
       "      <td>peach</td>\n",
       "      <td>2</td>\n",
       "      <td>3</td>\n",
       "      <td>4</td>\n",
       "    </tr>\n",
       "  </tbody>\n",
       "</table>\n",
       "</div>"
      ],
      "text/plain": [
       "  category  radius  sweetness  diameter\n",
       "0    apple       3          1         6\n",
       "1     pear       4          2         8\n",
       "2    peach       2          3         4"
      ]
     },
     "execution_count": 8,
     "metadata": {},
     "output_type": "execute_result"
    }
   ],
   "source": [
    "df['diameter'] = df['radius'].apply(lambda x: x*2)\n",
    "df"
   ]
  },
  {
   "cell_type": "code",
   "execution_count": 16,
   "id": "0497ac68-4125-42c6-8c4f-764b41a152f9",
   "metadata": {},
   "outputs": [
    {
     "name": "stdout",
     "output_type": "stream",
     "text": [
      "10000 runs of For Loop is 0.5491451249999955\n"
     ]
    }
   ],
   "source": [
    "# Timing\n",
    "setup_code = \"\"\"\n",
    "import pandas as pd\n",
    "d = {'category': ['apple', 'pear', 'peach'], 'radius': [3, 4, 2], 'sweetness': [1, 2, 3]}\n",
    "df = pd.DataFrame(data=d)\n",
    "\"\"\"\n",
    "\n",
    "mycode = '''\n",
    "df['radius'].apply(lambda x: x*2)\n",
    "'''\n",
    " \n",
    "# timeit statement\n",
    "t1 = timeit.timeit(setup=setup_code,\n",
    "                     stmt = mycode,\n",
    "                     number = 10000)\n",
    "print(f\"10000 runs of mycode is {t1}\")"
   ]
  },
  {
   "cell_type": "code",
   "execution_count": 9,
   "id": "78a22c53-9f5e-4ada-933d-b680d387c06e",
   "metadata": {},
   "outputs": [],
   "source": [
    "# output to csv for Medium\n",
    "df.to_csv('tab2.csv')"
   ]
  },
  {
   "cell_type": "markdown",
   "id": "d875dc12-97b3-49af-92c3-cb8f573356db",
   "metadata": {},
   "source": [
    "### Not using .apply()"
   ]
  },
  {
   "cell_type": "code",
   "execution_count": 10,
   "id": "fa9fa95e-fef6-406d-bff1-1bfeb537f466",
   "metadata": {},
   "outputs": [
    {
     "data": {
      "text/html": [
       "<div>\n",
       "<style scoped>\n",
       "    .dataframe tbody tr th:only-of-type {\n",
       "        vertical-align: middle;\n",
       "    }\n",
       "\n",
       "    .dataframe tbody tr th {\n",
       "        vertical-align: top;\n",
       "    }\n",
       "\n",
       "    .dataframe thead th {\n",
       "        text-align: right;\n",
       "    }\n",
       "</style>\n",
       "<table border=\"1\" class=\"dataframe\">\n",
       "  <thead>\n",
       "    <tr style=\"text-align: right;\">\n",
       "      <th></th>\n",
       "      <th>category</th>\n",
       "      <th>radius</th>\n",
       "      <th>sweetness</th>\n",
       "      <th>diameter</th>\n",
       "    </tr>\n",
       "  </thead>\n",
       "  <tbody>\n",
       "    <tr>\n",
       "      <th>0</th>\n",
       "      <td>apple</td>\n",
       "      <td>3</td>\n",
       "      <td>1</td>\n",
       "      <td>6</td>\n",
       "    </tr>\n",
       "    <tr>\n",
       "      <th>1</th>\n",
       "      <td>pear</td>\n",
       "      <td>4</td>\n",
       "      <td>2</td>\n",
       "      <td>8</td>\n",
       "    </tr>\n",
       "    <tr>\n",
       "      <th>2</th>\n",
       "      <td>peach</td>\n",
       "      <td>2</td>\n",
       "      <td>3</td>\n",
       "      <td>4</td>\n",
       "    </tr>\n",
       "  </tbody>\n",
       "</table>\n",
       "</div>"
      ],
      "text/plain": [
       "  category  radius  sweetness  diameter\n",
       "0    apple       3          1         6\n",
       "1     pear       4          2         8\n",
       "2    peach       2          3         4"
      ]
     },
     "execution_count": 10,
     "metadata": {},
     "output_type": "execute_result"
    }
   ],
   "source": [
    "df['diameter'] = df['radius']*2\n",
    "df"
   ]
  },
  {
   "cell_type": "code",
   "execution_count": 11,
   "id": "92b30e88-1255-496a-8e44-18259fd24467",
   "metadata": {},
   "outputs": [],
   "source": [
    "# output to csv for Medium\n",
    "df.to_csv('tab3.csv')"
   ]
  },
  {
   "cell_type": "code",
   "execution_count": 17,
   "id": "3dc653fd-0a83-4e4a-86f4-f9905d6f0390",
   "metadata": {},
   "outputs": [
    {
     "name": "stdout",
     "output_type": "stream",
     "text": [
      "10000 runs of For Loop is 0.32115258299972993\n"
     ]
    }
   ],
   "source": [
    "# Timing\n",
    "setup_code = \"\"\"\n",
    "import pandas as pd\n",
    "d = {'category': ['apple', 'pear', 'peach'], 'radius': [3, 4, 2], 'sweetness': [1, 2, 3]}\n",
    "df = pd.DataFrame(data=d)\n",
    "\"\"\"\n",
    "\n",
    "mycode = '''\n",
    "df['radius']*2\n",
    "'''\n",
    " \n",
    "# timeit statement\n",
    "t1 = timeit.timeit(setup=setup_code,\n",
    "                     stmt = mycode,\n",
    "                     number = 10000)\n",
    "print(f\"10000 runs of mycode is {t1}\")"
   ]
  },
  {
   "cell_type": "markdown",
   "id": "6e2ea04e-80a2-4a97-bc9e-c974c7cd386b",
   "metadata": {},
   "source": [
    "## Compare and select larger value\n",
    "compare the 'radius' to 3 and select the larger value"
   ]
  },
  {
   "cell_type": "code",
   "execution_count": 18,
   "id": "76491b37-c791-404f-905e-8647511b4e07",
   "metadata": {},
   "outputs": [
    {
     "ename": "ValueError",
     "evalue": "The truth value of a Series is ambiguous. Use a.empty, a.bool(), a.item(), a.any() or a.all().",
     "output_type": "error",
     "traceback": [
      "\u001b[0;31m---------------------------------------------------------------------------\u001b[0m",
      "\u001b[0;31mValueError\u001b[0m                                Traceback (most recent call last)",
      "Cell \u001b[0;32mIn [18], line 1\u001b[0m\n\u001b[0;32m----> 1\u001b[0m \u001b[38;5;28;43mmax\u001b[39;49m\u001b[43m(\u001b[49m\u001b[43mdf\u001b[49m\u001b[43m[\u001b[49m\u001b[38;5;124;43m'\u001b[39;49m\u001b[38;5;124;43mradius\u001b[39;49m\u001b[38;5;124;43m'\u001b[39;49m\u001b[43m]\u001b[49m\u001b[43m,\u001b[49m\u001b[38;5;241;43m3\u001b[39;49m\u001b[43m)\u001b[49m\n",
      "File \u001b[0;32m~/opt/anaconda3/envs/medium/lib/python3.9/site-packages/pandas/core/generic.py:1527\u001b[0m, in \u001b[0;36mNDFrame.__nonzero__\u001b[0;34m(self)\u001b[0m\n\u001b[1;32m   1525\u001b[0m \u001b[38;5;129m@final\u001b[39m\n\u001b[1;32m   1526\u001b[0m \u001b[38;5;28;01mdef\u001b[39;00m \u001b[38;5;21m__nonzero__\u001b[39m(\u001b[38;5;28mself\u001b[39m) \u001b[38;5;241m-\u001b[39m\u001b[38;5;241m>\u001b[39m NoReturn:\n\u001b[0;32m-> 1527\u001b[0m     \u001b[38;5;28;01mraise\u001b[39;00m \u001b[38;5;167;01mValueError\u001b[39;00m(\n\u001b[1;32m   1528\u001b[0m         \u001b[38;5;124mf\u001b[39m\u001b[38;5;124m\"\u001b[39m\u001b[38;5;124mThe truth value of a \u001b[39m\u001b[38;5;132;01m{\u001b[39;00m\u001b[38;5;28mtype\u001b[39m(\u001b[38;5;28mself\u001b[39m)\u001b[38;5;241m.\u001b[39m\u001b[38;5;18m__name__\u001b[39m\u001b[38;5;132;01m}\u001b[39;00m\u001b[38;5;124m is ambiguous. \u001b[39m\u001b[38;5;124m\"\u001b[39m\n\u001b[1;32m   1529\u001b[0m         \u001b[38;5;124m\"\u001b[39m\u001b[38;5;124mUse a.empty, a.bool(), a.item(), a.any() or a.all().\u001b[39m\u001b[38;5;124m\"\u001b[39m\n\u001b[1;32m   1530\u001b[0m     )\n",
      "\u001b[0;31mValueError\u001b[0m: The truth value of a Series is ambiguous. Use a.empty, a.bool(), a.item(), a.any() or a.all()."
     ]
    }
   ],
   "source": [
    "# generate error on purpose\n",
    "max(df['radius'],3)"
   ]
  },
  {
   "cell_type": "markdown",
   "id": "79186734-b4c3-4ba9-a7a1-3fea8d19b615",
   "metadata": {},
   "source": [
    "### Use .apply()"
   ]
  },
  {
   "cell_type": "code",
   "execution_count": 24,
   "id": "1c28d17c-e38b-44e7-84c6-8b3ad342e3c1",
   "metadata": {},
   "outputs": [
    {
     "data": {
      "text/html": [
       "<div>\n",
       "<style scoped>\n",
       "    .dataframe tbody tr th:only-of-type {\n",
       "        vertical-align: middle;\n",
       "    }\n",
       "\n",
       "    .dataframe tbody tr th {\n",
       "        vertical-align: top;\n",
       "    }\n",
       "\n",
       "    .dataframe thead th {\n",
       "        text-align: right;\n",
       "    }\n",
       "</style>\n",
       "<table border=\"1\" class=\"dataframe\">\n",
       "  <thead>\n",
       "    <tr style=\"text-align: right;\">\n",
       "      <th></th>\n",
       "      <th>category</th>\n",
       "      <th>radius</th>\n",
       "      <th>sweetness</th>\n",
       "      <th>diameter</th>\n",
       "      <th>radius_or_3</th>\n",
       "    </tr>\n",
       "  </thead>\n",
       "  <tbody>\n",
       "    <tr>\n",
       "      <th>0</th>\n",
       "      <td>apple</td>\n",
       "      <td>3</td>\n",
       "      <td>1</td>\n",
       "      <td>6</td>\n",
       "      <td>3</td>\n",
       "    </tr>\n",
       "    <tr>\n",
       "      <th>1</th>\n",
       "      <td>pear</td>\n",
       "      <td>4</td>\n",
       "      <td>2</td>\n",
       "      <td>8</td>\n",
       "      <td>4</td>\n",
       "    </tr>\n",
       "    <tr>\n",
       "      <th>2</th>\n",
       "      <td>peach</td>\n",
       "      <td>2</td>\n",
       "      <td>3</td>\n",
       "      <td>4</td>\n",
       "      <td>3</td>\n",
       "    </tr>\n",
       "  </tbody>\n",
       "</table>\n",
       "</div>"
      ],
      "text/plain": [
       "  category  radius  sweetness  diameter  radius_or_3\n",
       "0    apple       3          1         6            3\n",
       "1     pear       4          2         8            4\n",
       "2    peach       2          3         4            3"
      ]
     },
     "execution_count": 24,
     "metadata": {},
     "output_type": "execute_result"
    }
   ],
   "source": [
    "df['radius_or_3'] = df['radius'].apply(lambda x: max(x,3))\n",
    "df"
   ]
  },
  {
   "cell_type": "code",
   "execution_count": 25,
   "id": "3b0e2faa-067d-4c99-b742-9122148984a8",
   "metadata": {},
   "outputs": [],
   "source": [
    "# output to csv for Medium\n",
    "df.to_csv('tab4.csv')"
   ]
  },
  {
   "cell_type": "code",
   "execution_count": 26,
   "id": "cd1244d4-22ee-402a-ae5a-265ed390fcb0",
   "metadata": {},
   "outputs": [
    {
     "name": "stdout",
     "output_type": "stream",
     "text": [
      "10000 runs of mycode is 0.5552678340000057\n"
     ]
    }
   ],
   "source": [
    "# Timing\n",
    "setup_code = \"\"\"\n",
    "import pandas as pd\n",
    "d = {'category': ['apple', 'pear', 'peach'], 'radius': [3, 4, 2], 'sweetness': [1, 2, 3]}\n",
    "df = pd.DataFrame(data=d)\n",
    "\"\"\"\n",
    "\n",
    "mycode = '''\n",
    "df['radius'].apply(lambda x: max(x,3))\n",
    "'''\n",
    " \n",
    "# timeit statement\n",
    "t1 = timeit.timeit(setup=setup_code,\n",
    "                     stmt = mycode,\n",
    "                     number = 10000)\n",
    "print(f\"10000 runs of mycode is {t1}\")"
   ]
  },
  {
   "cell_type": "markdown",
   "id": "0719d0bd-e63a-453e-9f64-e8a6b4c6b3ca",
   "metadata": {},
   "source": [
    "### Not use .apply()"
   ]
  },
  {
   "cell_type": "code",
   "execution_count": 19,
   "id": "53b1dbf8-fc63-455d-b0e3-cf01ab115b58",
   "metadata": {},
   "outputs": [
    {
     "data": {
      "text/html": [
       "<div>\n",
       "<style scoped>\n",
       "    .dataframe tbody tr th:only-of-type {\n",
       "        vertical-align: middle;\n",
       "    }\n",
       "\n",
       "    .dataframe tbody tr th {\n",
       "        vertical-align: top;\n",
       "    }\n",
       "\n",
       "    .dataframe thead th {\n",
       "        text-align: right;\n",
       "    }\n",
       "</style>\n",
       "<table border=\"1\" class=\"dataframe\">\n",
       "  <thead>\n",
       "    <tr style=\"text-align: right;\">\n",
       "      <th></th>\n",
       "      <th>category</th>\n",
       "      <th>radius</th>\n",
       "      <th>sweetness</th>\n",
       "      <th>diameter</th>\n",
       "      <th>radius_or_3</th>\n",
       "    </tr>\n",
       "  </thead>\n",
       "  <tbody>\n",
       "    <tr>\n",
       "      <th>0</th>\n",
       "      <td>apple</td>\n",
       "      <td>3</td>\n",
       "      <td>1</td>\n",
       "      <td>6</td>\n",
       "      <td>3</td>\n",
       "    </tr>\n",
       "    <tr>\n",
       "      <th>1</th>\n",
       "      <td>pear</td>\n",
       "      <td>4</td>\n",
       "      <td>2</td>\n",
       "      <td>8</td>\n",
       "      <td>4</td>\n",
       "    </tr>\n",
       "    <tr>\n",
       "      <th>2</th>\n",
       "      <td>peach</td>\n",
       "      <td>2</td>\n",
       "      <td>3</td>\n",
       "      <td>4</td>\n",
       "      <td>3</td>\n",
       "    </tr>\n",
       "  </tbody>\n",
       "</table>\n",
       "</div>"
      ],
      "text/plain": [
       "  category  radius  sweetness  diameter  radius_or_3\n",
       "0    apple       3          1         6            3\n",
       "1     pear       4          2         8            4\n",
       "2    peach       2          3         4            3"
      ]
     },
     "execution_count": 19,
     "metadata": {},
     "output_type": "execute_result"
    }
   ],
   "source": [
    "df['radius_or_3'] = np.maximum(df['radius'],3)\n",
    "df"
   ]
  },
  {
   "cell_type": "code",
   "execution_count": 20,
   "id": "dd860b85-c857-4e8a-892f-28110811ede7",
   "metadata": {},
   "outputs": [],
   "source": [
    "# output to csv for Medium\n",
    "df.to_csv('tab4.csv')"
   ]
  },
  {
   "cell_type": "code",
   "execution_count": 22,
   "id": "f3cd4fb1-85cf-4454-912d-b5c38e494e11",
   "metadata": {},
   "outputs": [
    {
     "name": "stdout",
     "output_type": "stream",
     "text": [
      "10000 runs of mycode is 0.3092745419999119\n"
     ]
    }
   ],
   "source": [
    "# Timing\n",
    "setup_code = \"\"\"\n",
    "import pandas as pd\n",
    "import numpy as np\n",
    "d = {'category': ['apple', 'pear', 'peach'], 'radius': [3, 4, 2], 'sweetness': [1, 2, 3]}\n",
    "df = pd.DataFrame(data=d)\n",
    "\"\"\"\n",
    "\n",
    "mycode = '''\n",
    "np.maximum(df['radius'],3)\n",
    "'''\n",
    " \n",
    "# timeit statement\n",
    "t1 = timeit.timeit(setup=setup_code,\n",
    "                     stmt = mycode,\n",
    "                     number = 10000)\n",
    "print(f\"10000 runs of mycode is {t1}\")"
   ]
  },
  {
   "cell_type": "markdown",
   "id": "8a4838c0-12a0-4cbd-850a-a0ca97080e97",
   "metadata": {},
   "source": [
    "## Add a new column of lists\n",
    "### Use .apply()\n"
   ]
  },
  {
   "cell_type": "code",
   "execution_count": 28,
   "id": "a144001c-33a9-4da7-a2f6-af2fcaa86e2e",
   "metadata": {},
   "outputs": [
    {
     "data": {
      "text/html": [
       "<div>\n",
       "<style scoped>\n",
       "    .dataframe tbody tr th:only-of-type {\n",
       "        vertical-align: middle;\n",
       "    }\n",
       "\n",
       "    .dataframe tbody tr th {\n",
       "        vertical-align: top;\n",
       "    }\n",
       "\n",
       "    .dataframe thead th {\n",
       "        text-align: right;\n",
       "    }\n",
       "</style>\n",
       "<table border=\"1\" class=\"dataframe\">\n",
       "  <thead>\n",
       "    <tr style=\"text-align: right;\">\n",
       "      <th></th>\n",
       "      <th>category</th>\n",
       "      <th>radius</th>\n",
       "      <th>sweetness</th>\n",
       "      <th>diameter</th>\n",
       "      <th>radius_or_3</th>\n",
       "      <th>sizes</th>\n",
       "    </tr>\n",
       "  </thead>\n",
       "  <tbody>\n",
       "    <tr>\n",
       "      <th>0</th>\n",
       "      <td>apple</td>\n",
       "      <td>3</td>\n",
       "      <td>1</td>\n",
       "      <td>6</td>\n",
       "      <td>3</td>\n",
       "      <td>[3, 4, 5]</td>\n",
       "    </tr>\n",
       "    <tr>\n",
       "      <th>1</th>\n",
       "      <td>pear</td>\n",
       "      <td>4</td>\n",
       "      <td>2</td>\n",
       "      <td>8</td>\n",
       "      <td>4</td>\n",
       "      <td>[4, 5, 6, 7]</td>\n",
       "    </tr>\n",
       "    <tr>\n",
       "      <th>2</th>\n",
       "      <td>peach</td>\n",
       "      <td>2</td>\n",
       "      <td>3</td>\n",
       "      <td>4</td>\n",
       "      <td>3</td>\n",
       "      <td>[3]</td>\n",
       "    </tr>\n",
       "  </tbody>\n",
       "</table>\n",
       "</div>"
      ],
      "text/plain": [
       "  category  radius  sweetness  diameter  radius_or_3         sizes\n",
       "0    apple       3          1         6            3     [3, 4, 5]\n",
       "1     pear       4          2         8            4  [4, 5, 6, 7]\n",
       "2    peach       2          3         4            3           [3]"
      ]
     },
     "execution_count": 28,
     "metadata": {},
     "output_type": "execute_result"
    }
   ],
   "source": [
    "df['sizes'] = df.apply(lambda x: list(range(x.radius_or_3,x.diameter)), axis=1)\n",
    "df"
   ]
  },
  {
   "cell_type": "code",
   "execution_count": 29,
   "id": "4304bed1-d77e-469e-a925-0cc0c55566ed",
   "metadata": {},
   "outputs": [],
   "source": [
    "# output to csv for Medium\n",
    "df.to_csv('tab5.csv')"
   ]
  },
  {
   "cell_type": "code",
   "execution_count": 33,
   "id": "fb9150a2-cbc3-4e62-ac68-52eae3cbaa75",
   "metadata": {},
   "outputs": [
    {
     "name": "stdout",
     "output_type": "stream",
     "text": [
      "10000 runs of mycode is 1.8389610000003813\n"
     ]
    }
   ],
   "source": [
    "# Timing\n",
    "setup_code = \"\"\"\n",
    "import pandas as pd\n",
    "import numpy as np\n",
    "d = {'category': ['apple', 'pear', 'peach'], 'radius': [3, 4, 2], 'sweetness': [1, 2, 3]}\n",
    "df = pd.DataFrame(data=d)\n",
    "df['diameter'] = df['radius']*2\n",
    "df['radius_or_3'] = np.maximum(df['radius'],3)\n",
    "\"\"\"\n",
    "\n",
    "mycode = '''\n",
    "df.apply(lambda x: list(range(x.radius_or_3,x.diameter)), axis=1)\n",
    "'''\n",
    " \n",
    "# timeit statement\n",
    "t1 = timeit.timeit(setup=setup_code,\n",
    "                     stmt = mycode,\n",
    "                     number = 10000)\n",
    "print(f\"10000 runs of mycode is {t1}\")"
   ]
  },
  {
   "cell_type": "markdown",
   "id": "6508a60c-af98-4879-a7b8-84367c28247c",
   "metadata": {},
   "source": [
    "### Not use .apply()"
   ]
  },
  {
   "cell_type": "code",
   "execution_count": 34,
   "id": "202e6767-8ff8-4566-8dad-d70eb2968659",
   "metadata": {},
   "outputs": [
    {
     "data": {
      "text/html": [
       "<div>\n",
       "<style scoped>\n",
       "    .dataframe tbody tr th:only-of-type {\n",
       "        vertical-align: middle;\n",
       "    }\n",
       "\n",
       "    .dataframe tbody tr th {\n",
       "        vertical-align: top;\n",
       "    }\n",
       "\n",
       "    .dataframe thead th {\n",
       "        text-align: right;\n",
       "    }\n",
       "</style>\n",
       "<table border=\"1\" class=\"dataframe\">\n",
       "  <thead>\n",
       "    <tr style=\"text-align: right;\">\n",
       "      <th></th>\n",
       "      <th>category</th>\n",
       "      <th>radius</th>\n",
       "      <th>sweetness</th>\n",
       "      <th>diameter</th>\n",
       "      <th>radius_or_3</th>\n",
       "      <th>sizes</th>\n",
       "    </tr>\n",
       "  </thead>\n",
       "  <tbody>\n",
       "    <tr>\n",
       "      <th>0</th>\n",
       "      <td>apple</td>\n",
       "      <td>3</td>\n",
       "      <td>1</td>\n",
       "      <td>6</td>\n",
       "      <td>3</td>\n",
       "      <td>[3, 4, 5]</td>\n",
       "    </tr>\n",
       "    <tr>\n",
       "      <th>1</th>\n",
       "      <td>pear</td>\n",
       "      <td>4</td>\n",
       "      <td>2</td>\n",
       "      <td>8</td>\n",
       "      <td>4</td>\n",
       "      <td>[4, 5, 6, 7]</td>\n",
       "    </tr>\n",
       "    <tr>\n",
       "      <th>2</th>\n",
       "      <td>peach</td>\n",
       "      <td>2</td>\n",
       "      <td>3</td>\n",
       "      <td>4</td>\n",
       "      <td>3</td>\n",
       "      <td>[3]</td>\n",
       "    </tr>\n",
       "  </tbody>\n",
       "</table>\n",
       "</div>"
      ],
      "text/plain": [
       "  category  radius  sweetness  diameter  radius_or_3         sizes\n",
       "0    apple       3          1         6            3     [3, 4, 5]\n",
       "1     pear       4          2         8            4  [4, 5, 6, 7]\n",
       "2    peach       2          3         4            3           [3]"
      ]
     },
     "execution_count": 34,
     "metadata": {},
     "output_type": "execute_result"
    }
   ],
   "source": [
    "def create_range(a,b):\n",
    "    range_l = np.empty((len(a),1),object)\n",
    "    for i,val in enumerate(a):\n",
    "        range_l[i,0] = list(range(val,b[i]))\n",
    "    return range_l\n",
    "\n",
    "df['sizes'] = create_range(df['radius_or_3'].values,df['diameter'].values)\n",
    "df"
   ]
  },
  {
   "cell_type": "code",
   "execution_count": 35,
   "id": "66319f7b-e647-41af-9f46-901e3e343031",
   "metadata": {},
   "outputs": [
    {
     "name": "stdout",
     "output_type": "stream",
     "text": [
      "10000 runs of mycode is 0.07087879200025782\n"
     ]
    }
   ],
   "source": [
    "# Timing\n",
    "setup_code = \"\"\"\n",
    "import pandas as pd\n",
    "import numpy as np\n",
    "d = {'category': ['apple', 'pear', 'peach'], 'radius': [3, 4, 2], 'sweetness': [1, 2, 3]}\n",
    "df = pd.DataFrame(data=d)\n",
    "df['diameter'] = df['radius']*2\n",
    "df['radius_or_3'] = np.maximum(df['radius'],3)\n",
    "\"\"\"\n",
    "\n",
    "mycode = '''\n",
    "def create_range(a,b):\n",
    "    range_l = np.empty((len(a),1),object)\n",
    "    for i,val in enumerate(a):\n",
    "        range_l[i,0] = list(range(val,b[i]))\n",
    "    return range_l\n",
    "\n",
    "create_range(df['radius_or_3'].values,df['diameter'].values)\n",
    "'''\n",
    " \n",
    "# timeit statement\n",
    "t1 = timeit.timeit(setup=setup_code,\n",
    "                     stmt = mycode,\n",
    "                     number = 10000)\n",
    "print(f\"10000 runs of mycode is {t1}\")"
   ]
  },
  {
   "cell_type": "code",
   "execution_count": 36,
   "id": "4b7e5455-63aa-492f-a342-cba837fa5c58",
   "metadata": {},
   "outputs": [
    {
     "data": {
      "text/plain": [
       "26.285714285714285"
      ]
     },
     "execution_count": 36,
     "metadata": {},
     "output_type": "execute_result"
    }
   ],
   "source": [
    "184/7\n"
   ]
  }
 ],
 "metadata": {
  "kernelspec": {
   "display_name": "Python 3 (ipykernel)",
   "language": "python",
   "name": "python3"
  },
  "language_info": {
   "codemirror_mode": {
    "name": "ipython",
    "version": 3
   },
   "file_extension": ".py",
   "mimetype": "text/x-python",
   "name": "python",
   "nbconvert_exporter": "python",
   "pygments_lexer": "ipython3",
   "version": "3.9.15"
  }
 },
 "nbformat": 4,
 "nbformat_minor": 5
}
